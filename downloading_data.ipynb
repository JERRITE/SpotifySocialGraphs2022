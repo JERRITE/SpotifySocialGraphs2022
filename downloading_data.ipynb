{
 "cells": [
  {
   "cell_type": "code",
   "execution_count": 1,
   "metadata": {},
   "outputs": [
    {
     "name": "stderr",
     "output_type": "stream",
     "text": [
      "C:\\Users\\malgo\\AppData\\Local\\Temp\\ipykernel_18276\\1488235823.py:4: TqdmExperimentalWarning: Using `tqdm.autonotebook.tqdm` in notebook mode. Use `tqdm.tqdm` instead to force console mode (e.g. in jupyter console)\n",
      "  from tqdm.autonotebook import tqdm\n",
      "Using state Capital Region server backend.\n"
     ]
    }
   ],
   "source": [
    "import pandas as pd\n",
    "import spotipy\n",
    "from spotipy.oauth2 import SpotifyClientCredentials\n",
    "from tqdm.autonotebook import tqdm\n",
    "import ast\n",
    "from lyricsgenius import Genius\n",
    "import numpy as np\n",
    "from spacy_langdetect import LanguageDetector\n",
    "import spacy\n",
    "import os\n",
    "import translators as ts\n",
    "import ast\n",
    "from nltk.sentiment.vader import SentimentIntensityAnalyzer\n",
    "import nltk\n",
    "import re\n",
    "from matplotlib.colors import LogNorm\n",
    "# communities\n",
    "import community.community_louvain as cl\n",
    "import csv\n",
    "# coloring\n",
    "from matplotlib import colors as mcolors\n",
    "# graph\n",
    "import networkx as nx\n",
    "import matplotlib.pyplot as plt\n",
    "from fa2 import ForceAtlas2\n",
    "from scipy.stats import mode"
   ]
  },
  {
   "cell_type": "markdown",
   "metadata": {},
   "source": [
    "# GETTING DATA FROM SPOTIFY"
   ]
  },
  {
   "cell_type": "markdown",
   "metadata": {},
   "source": [
    "First, we got 100 most streamed artist from [ChartMasters](https://chartmasters.org/most-streamed-artists-ever-on-spotify/)."
   ]
  },
  {
   "cell_type": "code",
   "execution_count": 2,
   "metadata": {},
   "outputs": [],
   "source": [
    "client_id = \"fe1069f5c28e4dc18d28cf23e64e6f61\"\n",
    "client_secret = \"915fff01301f44c3b6faa8c12810bae6\"\n",
    "\n",
    "credmanager = SpotifyClientCredentials(client_id=client_id, client_secret=client_secret)\n",
    "sp = spotipy.Spotify(client_credentials_manager=credmanager, requests_timeout=20, retries=10)"
   ]
  },
  {
   "cell_type": "code",
   "execution_count": 3,
   "metadata": {},
   "outputs": [],
   "source": [
    "popular_artists = [\"Drake\", \"Bad Bunny\", \"Ed Sheeran\", \"The Weekend\", \"Taylor Swift\", \"Justin Bieber\", \"Ariana Grande\", \n",
    "                   \"Eminem\", \"Post Malone\", \"BTS\", \"J Balvin\", \"Kanye West\", \"Billie Eilish\", \"Juice WRLD\", \"Coldplay\", \n",
    "                   \"Dua Lipa\", \"Imagine Dragons\", \"XXXTENTACION\", \"Ozuna\", \"Khalid\", \"Rihanna\", \"Maroon 5\", \"Travis Scott\", \n",
    "                   \"David Guetta\", \"Shawn Mendes\", \"Bruno Mars\", \"Daddy Yankee\", \"Calvin Harris\", \"Kendrick Lamar\", \"Sam Smith\", \n",
    "                   \"Queen\", \"Beyoncé\", \"Future\", \"Chris Brown\", \"One Direction\", \"The Chainsmokers\", \"Lady Gaga\", \"J. Cole\", \n",
    "                   \"Nicki Minaj\", \"Anuel AA\", \"Adele\", \"Halsey\", \"Selena Gomez\", \"The Beatles\", \"Harry Styles\", \"Sia\", \"Maluma\", \n",
    "                   \"Marshmello\", \"Lil Uzi Vert\", \"Linkin Park\", \"Twenty One Pilots\", \"Lana Del Rey\", \"Katy Perry\", \n",
    "                   \"Rauw Alejandro\", \"Kygo\", \"Avicii\", \"Doja Cat\", \"Farruko\", \"Camila Cabello\", \"Arctic Monkeys\", \"KAROL G\", \n",
    "                   \"Jason Derulo\", \"Red Hot Chili Peppers\", \"Shakira\", \"Demi Lovato\", \"OneRepublic\", \"Miley Cyrus\", \"Nicky Jam\", \n",
    "                   \"Michael Jackson\", \"Myke Towers\", \"Charlie Puth\", \"21 Savage\", \"Lil Baby\", \"Pitbull\", \"Mac Miller\", \"DaBaby\", \n",
    "                   \"Martin Garrix\", \"Pop Smoke\", \"Sebastian Yatra\", \"Olivia Rodrigo\", \"Cardi B\", \"Panic! At The Disco\", \n",
    "                   \"Metallica\", \"Sech\", \"Lil Wayne\", \"Lil Nas X\", \"Young Thug\", \"Ellie Goulding\", \"G-Eazy\", \"Alan Walker\", \n",
    "                   \"Lil Peep\", \"Major Lazer\", \"Wiz Khalifa\", \"Elton John\", \"Fall Out Boy\", \"AC/DC\", \"P!nk\", \"Tyga\", \n",
    "                   \"Trippie Redd\", \"John Mayer\"]"
   ]
  },
  {
   "cell_type": "markdown",
   "metadata": {},
   "source": [
    "### Relations between artists"
   ]
  },
  {
   "cell_type": "markdown",
   "metadata": {},
   "source": [
    "Using Spotify API, we got 10 related artists for every popular artist. Then, we also got 10 related artists for every artist related to popular artists. This resulted in having a total of 2206 artists together with their correponding id and a list of relations between artists."
   ]
  },
  {
   "cell_type": "code",
   "execution_count": 100,
   "metadata": {
    "scrolled": true
   },
   "outputs": [
    {
     "data": {
      "application/vnd.jupyter.widget-view+json": {
       "model_id": "23e586d2deaf40508b6b5e35d786229b",
       "version_major": 2,
       "version_minor": 0
      },
      "text/plain": [
       "  0%|          | 0/100 [00:00<?, ?it/s]"
      ]
     },
     "metadata": {},
     "output_type": "display_data"
    }
   ],
   "source": [
    "set_all_artists = set(popular_artists) # all artists that we have, those who have relations and those who are only related to someone else\n",
    "list_of_related_artists = []\n",
    "artists_id = {}\n",
    "artists_already_having_relations = set() # if artist already exist in our list and has relations, we don't want to add him the second time\n",
    "for artist in tqdm(popular_artists, total=len(popular_artists)): # first get only \n",
    "    artist_features = sp.search(q='artist:' + artist, type=\"artist\")\n",
    "    artist_id = artist_features[\"artists\"][\"items\"][0][\"id\"]\n",
    "    artist_name = artist_features[\"artists\"][\"items\"][0][\"name\"]\n",
    "    artists_id[artist_id] = artist_name\n",
    "    \n",
    "    related_artists = sp.artist_related_artists(artist_id)\n",
    "    temp_list_of_related_artists = [] # list of artists related to the most popular artists\n",
    "    \n",
    "    for ra in related_artists[\"artists\"][:10]:\n",
    "        ra_name = ra[\"name\"]\n",
    "        ra_id = ra[\"id\"]\n",
    "        artists_id[ra_id] = ra_name\n",
    "        \n",
    "        temp_list_of_related_artists.append(ra_id) # list of artists related to the artists related to the most popular artists\n",
    "        double_related_artists = sp.artist_related_artists(ra_id)\n",
    "        temp_list_of_double_related_artists = []\n",
    "        for double_ra in double_related_artists[\"artists\"][:10]:\n",
    "            double_ra_name = double_ra[\"name\"]\n",
    "            double_ra_id = double_ra[\"id\"]\n",
    "            artists_id[double_ra_id] = double_ra_name\n",
    "            \n",
    "            temp_list_of_double_related_artists.append(double_ra_id) \n",
    "            \n",
    "        if ra_id not in artists_already_having_relations: # check if they don't already exist in our list\n",
    "            list_of_related_artists.append({\"id\": ra_id,  \"related_artists\": temp_list_of_double_related_artists})\n",
    "            artists_already_having_relations.add(ra_id)\n",
    "        set_all_artists = set_all_artists | set(temp_list_of_double_related_artists)\n",
    "        \n",
    "    if artist_id not in artists_already_having_relations: # check if they don't already exist in our list\n",
    "        list_of_related_artists.append({\"id\": artist_id, \"related_artists\": temp_list_of_related_artists})\n",
    "        artists_already_having_relations.add(artist_id)\n",
    "    set_all_artists = set_all_artists | set(temp_list_of_related_artists)"
   ]
  },
  {
   "cell_type": "code",
   "execution_count": 108,
   "metadata": {},
   "outputs": [
    {
     "data": {
      "text/html": [
       "<div>\n",
       "<style scoped>\n",
       "    .dataframe tbody tr th:only-of-type {\n",
       "        vertical-align: middle;\n",
       "    }\n",
       "\n",
       "    .dataframe tbody tr th {\n",
       "        vertical-align: top;\n",
       "    }\n",
       "\n",
       "    .dataframe thead th {\n",
       "        text-align: right;\n",
       "    }\n",
       "</style>\n",
       "<table border=\"1\" class=\"dataframe\">\n",
       "  <thead>\n",
       "    <tr style=\"text-align: right;\">\n",
       "      <th></th>\n",
       "      <th>id</th>\n",
       "      <th>related_artists</th>\n",
       "    </tr>\n",
       "  </thead>\n",
       "  <tbody>\n",
       "    <tr>\n",
       "      <th>0</th>\n",
       "      <td>0c173mlxpT3dSFRgMO8XPh</td>\n",
       "      <td>[67nwj3Y5sZQLl72VNUHEYE, 17lzZA2AlOHwCwFALHttm...</td>\n",
       "    </tr>\n",
       "    <tr>\n",
       "      <th>1</th>\n",
       "      <td>6l3HvQ5sa6mXTsMTB19rO5</td>\n",
       "      <td>[0c173mlxpT3dSFRgMO8XPh, 67nwj3Y5sZQLl72VNUHEY...</td>\n",
       "    </tr>\n",
       "    <tr>\n",
       "      <th>2</th>\n",
       "      <td>20sxb77xiYeusSH8cVdatc</td>\n",
       "      <td>[1sBkRIssrMs1AbVkOJbc7a, 6vXTefBL93Dj5IqAWq6OT...</td>\n",
       "    </tr>\n",
       "    <tr>\n",
       "      <th>3</th>\n",
       "      <td>0QHgL1lAIqAw0HtD7YldmP</td>\n",
       "      <td>[1sBkRIssrMs1AbVkOJbc7a, 5OrB6Jhhrl9y2PK0pSV4V...</td>\n",
       "    </tr>\n",
       "    <tr>\n",
       "      <th>4</th>\n",
       "      <td>2HPaUgqeutzr3jx5a9WyDV</td>\n",
       "      <td>[4HzKw8XcD0piJmDrrPRCYk, 7mDU6nMUJnOSY2Hkjz5oq...</td>\n",
       "    </tr>\n",
       "  </tbody>\n",
       "</table>\n",
       "</div>"
      ],
      "text/plain": [
       "                       id                                    related_artists\n",
       "0  0c173mlxpT3dSFRgMO8XPh  [67nwj3Y5sZQLl72VNUHEYE, 17lzZA2AlOHwCwFALHttm...\n",
       "1  6l3HvQ5sa6mXTsMTB19rO5  [0c173mlxpT3dSFRgMO8XPh, 67nwj3Y5sZQLl72VNUHEY...\n",
       "2  20sxb77xiYeusSH8cVdatc  [1sBkRIssrMs1AbVkOJbc7a, 6vXTefBL93Dj5IqAWq6OT...\n",
       "3  0QHgL1lAIqAw0HtD7YldmP  [1sBkRIssrMs1AbVkOJbc7a, 5OrB6Jhhrl9y2PK0pSV4V...\n",
       "4  2HPaUgqeutzr3jx5a9WyDV  [4HzKw8XcD0piJmDrrPRCYk, 7mDU6nMUJnOSY2Hkjz5oq..."
      ]
     },
     "execution_count": 108,
     "metadata": {},
     "output_type": "execute_result"
    }
   ],
   "source": [
    "artists_relations_df = pd.DataFrame(list_of_related_artists)\n",
    "artists_relations_df.head()"
   ]
  },
  {
   "cell_type": "code",
   "execution_count": 154,
   "metadata": {},
   "outputs": [],
   "source": [
    "artists_relations_df.to_csv(\"artists_relations.csv\", sep=\";\", index=None) # file with relations between artists"
   ]
  },
  {
   "cell_type": "code",
   "execution_count": 116,
   "metadata": {},
   "outputs": [
    {
     "data": {
      "text/html": [
       "<div>\n",
       "<style scoped>\n",
       "    .dataframe tbody tr th:only-of-type {\n",
       "        vertical-align: middle;\n",
       "    }\n",
       "\n",
       "    .dataframe tbody tr th {\n",
       "        vertical-align: top;\n",
       "    }\n",
       "\n",
       "    .dataframe thead th {\n",
       "        text-align: right;\n",
       "    }\n",
       "</style>\n",
       "<table border=\"1\" class=\"dataframe\">\n",
       "  <thead>\n",
       "    <tr style=\"text-align: right;\">\n",
       "      <th></th>\n",
       "      <th>id</th>\n",
       "      <th>name</th>\n",
       "    </tr>\n",
       "  </thead>\n",
       "  <tbody>\n",
       "    <tr>\n",
       "      <th>0</th>\n",
       "      <td>3TVXtAsR1Inumwj472S9r4</td>\n",
       "      <td>Drake</td>\n",
       "    </tr>\n",
       "    <tr>\n",
       "      <th>1</th>\n",
       "      <td>0c173mlxpT3dSFRgMO8XPh</td>\n",
       "      <td>Big Sean</td>\n",
       "    </tr>\n",
       "    <tr>\n",
       "      <th>2</th>\n",
       "      <td>67nwj3Y5sZQLl72VNUHEYE</td>\n",
       "      <td>Wale</td>\n",
       "    </tr>\n",
       "    <tr>\n",
       "      <th>3</th>\n",
       "      <td>17lzZA2AlOHwCwFALHttmp</td>\n",
       "      <td>2 Chainz</td>\n",
       "    </tr>\n",
       "    <tr>\n",
       "      <th>4</th>\n",
       "      <td>1sBkRIssrMs1AbVkOJbc7a</td>\n",
       "      <td>Rick Ross</td>\n",
       "    </tr>\n",
       "  </tbody>\n",
       "</table>\n",
       "</div>"
      ],
      "text/plain": [
       "                       id       name\n",
       "0  3TVXtAsR1Inumwj472S9r4      Drake\n",
       "1  0c173mlxpT3dSFRgMO8XPh   Big Sean\n",
       "2  67nwj3Y5sZQLl72VNUHEYE       Wale\n",
       "3  17lzZA2AlOHwCwFALHttmp   2 Chainz\n",
       "4  1sBkRIssrMs1AbVkOJbc7a  Rick Ross"
      ]
     },
     "execution_count": 116,
     "metadata": {},
     "output_type": "execute_result"
    }
   ],
   "source": [
    "artists_id_df = pd.DataFrame(artists_id.items(), columns=[\"id\", \"name\"])\n",
    "artists_id_df.head()"
   ]
  },
  {
   "cell_type": "code",
   "execution_count": 152,
   "metadata": {},
   "outputs": [],
   "source": [
    "artists_id_df.to_csv(\"artists_id.csv\", index=None) # artists names and ids"
   ]
  },
  {
   "cell_type": "markdown",
   "metadata": {},
   "source": [
    "### Data about artists and tracks"
   ]
  },
  {
   "cell_type": "markdown",
   "metadata": {},
   "source": [
    "Once data about relations between artists was ready, more specific data about each artist, such as **number of followers**, **genres** and **popularity** were downloaded. What's more, for every artist top 10 tracks were downloaded, together with its features: **album id**, **album name**, **album release data**, **number of tracks on album**, **artists collaborating in the track**, **track's popularity**, **track id**, **number of track on album**, **danceability**, **energy**, **key**, **loudness**, **mode**, **speechiness**, **acousticness**, **instrumentalness**, **liveness**, **valence** and **tempo**. For some artists there were less than 10 top tracks possible, so finally it resulted in total of 21985 tracks. Also, not all features were available for all tracks, so there are some missing data. Tracks were saved as a list of dictionaries for every artist."
   ]
  },
  {
   "cell_type": "code",
   "execution_count": 3,
   "metadata": {},
   "outputs": [
    {
     "data": {
      "text/html": [
       "<div>\n",
       "<style scoped>\n",
       "    .dataframe tbody tr th:only-of-type {\n",
       "        vertical-align: middle;\n",
       "    }\n",
       "\n",
       "    .dataframe tbody tr th {\n",
       "        vertical-align: top;\n",
       "    }\n",
       "\n",
       "    .dataframe thead th {\n",
       "        text-align: right;\n",
       "    }\n",
       "</style>\n",
       "<table border=\"1\" class=\"dataframe\">\n",
       "  <thead>\n",
       "    <tr style=\"text-align: right;\">\n",
       "      <th></th>\n",
       "      <th>id</th>\n",
       "      <th>name</th>\n",
       "    </tr>\n",
       "  </thead>\n",
       "  <tbody>\n",
       "    <tr>\n",
       "      <th>0</th>\n",
       "      <td>3TVXtAsR1Inumwj472S9r4</td>\n",
       "      <td>Drake</td>\n",
       "    </tr>\n",
       "    <tr>\n",
       "      <th>1</th>\n",
       "      <td>0c173mlxpT3dSFRgMO8XPh</td>\n",
       "      <td>Big Sean</td>\n",
       "    </tr>\n",
       "    <tr>\n",
       "      <th>2</th>\n",
       "      <td>67nwj3Y5sZQLl72VNUHEYE</td>\n",
       "      <td>Wale</td>\n",
       "    </tr>\n",
       "    <tr>\n",
       "      <th>3</th>\n",
       "      <td>17lzZA2AlOHwCwFALHttmp</td>\n",
       "      <td>2 Chainz</td>\n",
       "    </tr>\n",
       "    <tr>\n",
       "      <th>4</th>\n",
       "      <td>1sBkRIssrMs1AbVkOJbc7a</td>\n",
       "      <td>Rick Ross</td>\n",
       "    </tr>\n",
       "  </tbody>\n",
       "</table>\n",
       "</div>"
      ],
      "text/plain": [
       "                       id       name\n",
       "0  3TVXtAsR1Inumwj472S9r4      Drake\n",
       "1  0c173mlxpT3dSFRgMO8XPh   Big Sean\n",
       "2  67nwj3Y5sZQLl72VNUHEYE       Wale\n",
       "3  17lzZA2AlOHwCwFALHttmp   2 Chainz\n",
       "4  1sBkRIssrMs1AbVkOJbc7a  Rick Ross"
      ]
     },
     "execution_count": 3,
     "metadata": {},
     "output_type": "execute_result"
    }
   ],
   "source": [
    "artists_id_df = pd.read_csv(\"artists_id.csv\")\n",
    "artists_id_df.head()"
   ]
  },
  {
   "cell_type": "code",
   "execution_count": 4,
   "metadata": {
    "scrolled": false
   },
   "outputs": [
    {
     "data": {
      "application/vnd.jupyter.widget-view+json": {
       "model_id": "ddd45c742edb4adf97c3512dc28badd2",
       "version_major": 2,
       "version_minor": 0
      },
      "text/plain": [
       "  0%|          | 0/2206 [00:00<?, ?it/s]"
      ]
     },
     "metadata": {},
     "output_type": "display_data"
    }
   ],
   "source": [
    "artists_data_list = []\n",
    "for id_ in tqdm(artists_id_df[\"id\"], total=len(artists_id_df)):\n",
    "    \n",
    "    results = sp.artist(id_) # get basic data about artist\n",
    "    data = {\"id\": id_, \"name\": results[\"name\"], \"number_of_followers\": results[\"followers\"][\"total\"], \n",
    "            \"genres\": results[\"genres\"], \"popularity\": results[\"popularity\"]}\n",
    "    top_tracks_results = sp.artist_top_tracks(id_) # get basic data about top tracks\n",
    "    tracks_data = []\n",
    "    for track in top_tracks_results[\"tracks\"]:\n",
    "        temp_track_data = {}\n",
    "        temp_audio_data = {}\n",
    "        \n",
    "        all_track_artists = [] # information about all artists in the track\n",
    "        for a in track[\"artists\"]:\n",
    "            all_track_artists.append(a[\"name\"])\n",
    "            \n",
    "        temp_track_data = {\"album_id\": track.get(\"album\", {}).get(\"id\"), \"album_name\": track.get(\"album\", {}).get(\"name\"), \n",
    "                            \"album_release_data\": track.get(\"album\", {}).get(\"release_date\"), \n",
    "                            \"number_of_tracks_on_album\": track.get(\"album\", {}).get(\"total_tracks\"), \n",
    "                            \"artists\": all_track_artists, \n",
    "                            \"id\": track.get(\"id\"), \"name\": track.get(\"name\"), \"popularity\": track.get(\"popularity\"), \n",
    "                            \"track_number_on_album\": track.get(\"track_number\")}\n",
    "            \n",
    "        audio_data = sp.audio_features(track[\"id\"])[0] # get specific track data (they don't always exist)\n",
    "        if audio_data:\n",
    "            temp_audio_data = {\"danceability\": audio_data.get(\"danceability\"), \n",
    "                               \"energy\": audio_data.get(\"energy\"), \"key\": audio_data.get(\"key\"), \n",
    "                               \"loudness\": audio_data.get(\"loudness\"), \"mode\": audio_data.get(\"mode\"), \n",
    "                               \"speechiness\": audio_data.get(\"speechiness\"), \"acousticness\": audio_data.get(\"acousticness\"), \n",
    "                               \"instrumentalness\": audio_data.get(\"instrumentalness\"), \"liveness\": audio_data.get(\"liveness\"), \n",
    "                               \"valence\": audio_data.get(\"valence\"), \"tempo\": audio_data.get(\"tempo\")}\n",
    "            temp_track_data.update(temp_audio_data)\n",
    "            \n",
    "        tracks_data.append(temp_track_data)\n",
    "    data[\"top_tracks\"] = tracks_data\n",
    "    artists_data_list.append(data)"
   ]
  },
  {
   "cell_type": "code",
   "execution_count": 5,
   "metadata": {},
   "outputs": [
    {
     "data": {
      "text/html": [
       "<div>\n",
       "<style scoped>\n",
       "    .dataframe tbody tr th:only-of-type {\n",
       "        vertical-align: middle;\n",
       "    }\n",
       "\n",
       "    .dataframe tbody tr th {\n",
       "        vertical-align: top;\n",
       "    }\n",
       "\n",
       "    .dataframe thead th {\n",
       "        text-align: right;\n",
       "    }\n",
       "</style>\n",
       "<table border=\"1\" class=\"dataframe\">\n",
       "  <thead>\n",
       "    <tr style=\"text-align: right;\">\n",
       "      <th></th>\n",
       "      <th>id</th>\n",
       "      <th>name</th>\n",
       "      <th>number_of_followers</th>\n",
       "      <th>genres</th>\n",
       "      <th>popularity</th>\n",
       "      <th>top_tracks</th>\n",
       "    </tr>\n",
       "  </thead>\n",
       "  <tbody>\n",
       "    <tr>\n",
       "      <th>0</th>\n",
       "      <td>3TVXtAsR1Inumwj472S9r4</td>\n",
       "      <td>Drake</td>\n",
       "      <td>68477309</td>\n",
       "      <td>[canadian hip hop, canadian pop, hip hop, rap,...</td>\n",
       "      <td>96</td>\n",
       "      <td>[{'album_id': '3cf4iSSKd8ffTncbtKljXw', 'album...</td>\n",
       "    </tr>\n",
       "    <tr>\n",
       "      <th>1</th>\n",
       "      <td>0c173mlxpT3dSFRgMO8XPh</td>\n",
       "      <td>Big Sean</td>\n",
       "      <td>10154240</td>\n",
       "      <td>[detroit hip hop, hip hop, pop, pop rap, r&amp;b, ...</td>\n",
       "      <td>77</td>\n",
       "      <td>[{'album_id': '2HaqChIDc5go3qxVunBDK0', 'album...</td>\n",
       "    </tr>\n",
       "    <tr>\n",
       "      <th>2</th>\n",
       "      <td>67nwj3Y5sZQLl72VNUHEYE</td>\n",
       "      <td>Wale</td>\n",
       "      <td>3836361</td>\n",
       "      <td>[gangster rap, hip hop, pop rap, r&amp;b, rap, sou...</td>\n",
       "      <td>69</td>\n",
       "      <td>[{'album_id': '0jCVC8ndYYOooEY2YTO1l6', 'album...</td>\n",
       "    </tr>\n",
       "    <tr>\n",
       "      <th>3</th>\n",
       "      <td>17lzZA2AlOHwCwFALHttmp</td>\n",
       "      <td>2 Chainz</td>\n",
       "      <td>7462599</td>\n",
       "      <td>[atl hip hop, gangster rap, hip hop, pop rap, ...</td>\n",
       "      <td>75</td>\n",
       "      <td>[{'album_id': '35KyVKa5AMTaOBxSzjSBbK', 'album...</td>\n",
       "    </tr>\n",
       "    <tr>\n",
       "      <th>4</th>\n",
       "      <td>1sBkRIssrMs1AbVkOJbc7a</td>\n",
       "      <td>Rick Ross</td>\n",
       "      <td>6359211</td>\n",
       "      <td>[dirty south rap, gangster rap, hip hop, pop r...</td>\n",
       "      <td>76</td>\n",
       "      <td>[{'album_id': '00HZxSA1sOS9T3nA950sg4', 'album...</td>\n",
       "    </tr>\n",
       "  </tbody>\n",
       "</table>\n",
       "</div>"
      ],
      "text/plain": [
       "                       id       name  number_of_followers  \\\n",
       "0  3TVXtAsR1Inumwj472S9r4      Drake             68477309   \n",
       "1  0c173mlxpT3dSFRgMO8XPh   Big Sean             10154240   \n",
       "2  67nwj3Y5sZQLl72VNUHEYE       Wale              3836361   \n",
       "3  17lzZA2AlOHwCwFALHttmp   2 Chainz              7462599   \n",
       "4  1sBkRIssrMs1AbVkOJbc7a  Rick Ross              6359211   \n",
       "\n",
       "                                              genres  popularity  \\\n",
       "0  [canadian hip hop, canadian pop, hip hop, rap,...          96   \n",
       "1  [detroit hip hop, hip hop, pop, pop rap, r&b, ...          77   \n",
       "2  [gangster rap, hip hop, pop rap, r&b, rap, sou...          69   \n",
       "3  [atl hip hop, gangster rap, hip hop, pop rap, ...          75   \n",
       "4  [dirty south rap, gangster rap, hip hop, pop r...          76   \n",
       "\n",
       "                                          top_tracks  \n",
       "0  [{'album_id': '3cf4iSSKd8ffTncbtKljXw', 'album...  \n",
       "1  [{'album_id': '2HaqChIDc5go3qxVunBDK0', 'album...  \n",
       "2  [{'album_id': '0jCVC8ndYYOooEY2YTO1l6', 'album...  \n",
       "3  [{'album_id': '35KyVKa5AMTaOBxSzjSBbK', 'album...  \n",
       "4  [{'album_id': '00HZxSA1sOS9T3nA950sg4', 'album...  "
      ]
     },
     "execution_count": 5,
     "metadata": {},
     "output_type": "execute_result"
    }
   ],
   "source": [
    "artists_data_df = pd.DataFrame(artists_data_list)\n",
    "artists_data_df.head()"
   ]
  },
  {
   "cell_type": "code",
   "execution_count": 12,
   "metadata": {},
   "outputs": [],
   "source": [
    "artists_data_df.to_csv(\"artists_data.csv\", sep=\";\", index=False)"
   ]
  },
  {
   "cell_type": "markdown",
   "metadata": {},
   "source": [
    "### Additional file with tracks"
   ]
  },
  {
   "cell_type": "markdown",
   "metadata": {},
   "source": [
    "To enable more clear and transparent coding and analysis, a new file with tracks was created. At first there was one row for every artist, and for every artist there was a list of dictionaries with tracks in column top_tracks. In a new file every row is a separate track, and features of tracks are in separate columns."
   ]
  },
  {
   "cell_type": "code",
   "execution_count": 3,
   "metadata": {},
   "outputs": [
    {
     "data": {
      "text/html": [
       "<div>\n",
       "<style scoped>\n",
       "    .dataframe tbody tr th:only-of-type {\n",
       "        vertical-align: middle;\n",
       "    }\n",
       "\n",
       "    .dataframe tbody tr th {\n",
       "        vertical-align: top;\n",
       "    }\n",
       "\n",
       "    .dataframe thead th {\n",
       "        text-align: right;\n",
       "    }\n",
       "</style>\n",
       "<table border=\"1\" class=\"dataframe\">\n",
       "  <thead>\n",
       "    <tr style=\"text-align: right;\">\n",
       "      <th></th>\n",
       "      <th>id</th>\n",
       "      <th>name</th>\n",
       "      <th>number_of_followers</th>\n",
       "      <th>genres</th>\n",
       "      <th>popularity</th>\n",
       "      <th>top_tracks</th>\n",
       "    </tr>\n",
       "  </thead>\n",
       "  <tbody>\n",
       "    <tr>\n",
       "      <th>0</th>\n",
       "      <td>3TVXtAsR1Inumwj472S9r4</td>\n",
       "      <td>Drake</td>\n",
       "      <td>68477309</td>\n",
       "      <td>['canadian hip hop', 'canadian pop', 'hip hop'...</td>\n",
       "      <td>96</td>\n",
       "      <td>[{'album_id': '3cf4iSSKd8ffTncbtKljXw', 'album...</td>\n",
       "    </tr>\n",
       "    <tr>\n",
       "      <th>1</th>\n",
       "      <td>0c173mlxpT3dSFRgMO8XPh</td>\n",
       "      <td>Big Sean</td>\n",
       "      <td>10154240</td>\n",
       "      <td>['detroit hip hop', 'hip hop', 'pop', 'pop rap...</td>\n",
       "      <td>77</td>\n",
       "      <td>[{'album_id': '2HaqChIDc5go3qxVunBDK0', 'album...</td>\n",
       "    </tr>\n",
       "    <tr>\n",
       "      <th>2</th>\n",
       "      <td>67nwj3Y5sZQLl72VNUHEYE</td>\n",
       "      <td>Wale</td>\n",
       "      <td>3836361</td>\n",
       "      <td>['gangster rap', 'hip hop', 'pop rap', 'r&amp;b', ...</td>\n",
       "      <td>69</td>\n",
       "      <td>[{'album_id': '0jCVC8ndYYOooEY2YTO1l6', 'album...</td>\n",
       "    </tr>\n",
       "    <tr>\n",
       "      <th>3</th>\n",
       "      <td>17lzZA2AlOHwCwFALHttmp</td>\n",
       "      <td>2 Chainz</td>\n",
       "      <td>7462599</td>\n",
       "      <td>['atl hip hop', 'gangster rap', 'hip hop', 'po...</td>\n",
       "      <td>75</td>\n",
       "      <td>[{'album_id': '35KyVKa5AMTaOBxSzjSBbK', 'album...</td>\n",
       "    </tr>\n",
       "    <tr>\n",
       "      <th>4</th>\n",
       "      <td>1sBkRIssrMs1AbVkOJbc7a</td>\n",
       "      <td>Rick Ross</td>\n",
       "      <td>6359211</td>\n",
       "      <td>['dirty south rap', 'gangster rap', 'hip hop',...</td>\n",
       "      <td>76</td>\n",
       "      <td>[{'album_id': '00HZxSA1sOS9T3nA950sg4', 'album...</td>\n",
       "    </tr>\n",
       "  </tbody>\n",
       "</table>\n",
       "</div>"
      ],
      "text/plain": [
       "                       id       name  number_of_followers  \\\n",
       "0  3TVXtAsR1Inumwj472S9r4      Drake             68477309   \n",
       "1  0c173mlxpT3dSFRgMO8XPh   Big Sean             10154240   \n",
       "2  67nwj3Y5sZQLl72VNUHEYE       Wale              3836361   \n",
       "3  17lzZA2AlOHwCwFALHttmp   2 Chainz              7462599   \n",
       "4  1sBkRIssrMs1AbVkOJbc7a  Rick Ross              6359211   \n",
       "\n",
       "                                              genres  popularity  \\\n",
       "0  ['canadian hip hop', 'canadian pop', 'hip hop'...          96   \n",
       "1  ['detroit hip hop', 'hip hop', 'pop', 'pop rap...          77   \n",
       "2  ['gangster rap', 'hip hop', 'pop rap', 'r&b', ...          69   \n",
       "3  ['atl hip hop', 'gangster rap', 'hip hop', 'po...          75   \n",
       "4  ['dirty south rap', 'gangster rap', 'hip hop',...          76   \n",
       "\n",
       "                                          top_tracks  \n",
       "0  [{'album_id': '3cf4iSSKd8ffTncbtKljXw', 'album...  \n",
       "1  [{'album_id': '2HaqChIDc5go3qxVunBDK0', 'album...  \n",
       "2  [{'album_id': '0jCVC8ndYYOooEY2YTO1l6', 'album...  \n",
       "3  [{'album_id': '35KyVKa5AMTaOBxSzjSBbK', 'album...  \n",
       "4  [{'album_id': '00HZxSA1sOS9T3nA950sg4', 'album...  "
      ]
     },
     "execution_count": 3,
     "metadata": {},
     "output_type": "execute_result"
    }
   ],
   "source": [
    "artists_data_df = pd.read_csv(\"artists_data.csv\", sep=\";\")\n",
    "artists_data_df.head()"
   ]
  },
  {
   "cell_type": "code",
   "execution_count": 17,
   "metadata": {},
   "outputs": [
    {
     "data": {
      "application/vnd.jupyter.widget-view+json": {
       "model_id": "fbfb9b3698f7499dbb8eb56b5bdeb133",
       "version_major": 2,
       "version_minor": 0
      },
      "text/plain": [
       "  0%|          | 0/2206 [00:00<?, ?it/s]"
      ]
     },
     "metadata": {},
     "output_type": "display_data"
    }
   ],
   "source": [
    "all_track_data = []\n",
    "for i, row in tqdm(artists_data_df.iterrows(), total = len(artists_data_df)):\n",
    "    artist_id = row[\"id\"]\n",
    "    artist_name = row[\"name\"]\n",
    "    artist_no_of_followers = row[\"number_of_followers\"]\n",
    "    artist_genres = row[\"genres\"]\n",
    "    artist_popularity = row[\"popularity\"]\n",
    "    for track in ast.literal_eval(row[\"top_tracks\"]):\n",
    "        track_data = {\"artist_id\": artist_id, \"artist_name\": artist_name, \"number_of_followers\": artist_no_of_followers,\n",
    "                      \"artist_genres\": artist_genres, \"artist_popularity\": artist_popularity}\n",
    "        track_data.update({\"album_id\": track.get(\"album_id\"), \"album_name\": track.get(\"album_name\"), \n",
    "                           \"album_release_data\": track.get(\"album_release_data\"), \n",
    "                           \"number_of_tracks_on_album\": track.get(\"number_of_tracks_on_album\"), \n",
    "                           \"track_artists\": track.get(\"artists\"), \"track_id\": track.get(\"id\"), \"track_name\": track.get(\"name\"), \n",
    "                           \"track_popularity\": track.get(\"popularity\"), \"track_number_on_album\": track.get(\"track_number_on_album\"), \n",
    "                           \"danceability\": track.get(\"danceability\"), \"energy\": track.get(\"energy\"), \"key\": track.get(\"key\"), \n",
    "                           \"loudness\": track.get(\"loudness\"), \"mode\": track.get(\"mode\"), \"speechiness\": track.get(\"speechiness\"), \n",
    "                           \"acousticness\": track.get(\"acousticness\"), \"instrumentalness\": track.get(\"instrumentalness\"), \n",
    "                           \"liveness\": track.get(\"liveness\"), \"valence\": track.get(\"valence\"), \"tempo\": track.get(\"tempo\")})\n",
    "        all_track_data.append(track_data)"
   ]
  },
  {
   "cell_type": "code",
   "execution_count": 18,
   "metadata": {},
   "outputs": [
    {
     "data": {
      "text/html": [
       "<div>\n",
       "<style scoped>\n",
       "    .dataframe tbody tr th:only-of-type {\n",
       "        vertical-align: middle;\n",
       "    }\n",
       "\n",
       "    .dataframe tbody tr th {\n",
       "        vertical-align: top;\n",
       "    }\n",
       "\n",
       "    .dataframe thead th {\n",
       "        text-align: right;\n",
       "    }\n",
       "</style>\n",
       "<table border=\"1\" class=\"dataframe\">\n",
       "  <thead>\n",
       "    <tr style=\"text-align: right;\">\n",
       "      <th></th>\n",
       "      <th>artist_id</th>\n",
       "      <th>artist_name</th>\n",
       "      <th>number_of_followers</th>\n",
       "      <th>artist_genres</th>\n",
       "      <th>artist_popularity</th>\n",
       "      <th>album_id</th>\n",
       "      <th>album_name</th>\n",
       "      <th>album_release_data</th>\n",
       "      <th>number_of_tracks_on_album</th>\n",
       "      <th>track_artists</th>\n",
       "      <th>track_id</th>\n",
       "      <th>track_name</th>\n",
       "      <th>track_popularity</th>\n",
       "      <th>track_number_on_album</th>\n",
       "      <th>danceability</th>\n",
       "      <th>energy</th>\n",
       "      <th>key</th>\n",
       "      <th>loudness</th>\n",
       "      <th>mode</th>\n",
       "      <th>speechiness</th>\n",
       "      <th>acousticness</th>\n",
       "      <th>instrumentalness</th>\n",
       "      <th>liveness</th>\n",
       "      <th>valence</th>\n",
       "      <th>tempo</th>\n",
       "    </tr>\n",
       "  </thead>\n",
       "  <tbody>\n",
       "    <tr>\n",
       "      <th>0</th>\n",
       "      <td>3TVXtAsR1Inumwj472S9r4</td>\n",
       "      <td>Drake</td>\n",
       "      <td>68477309</td>\n",
       "      <td>['canadian hip hop', 'canadian pop', 'hip hop'...</td>\n",
       "      <td>96</td>\n",
       "      <td>3cf4iSSKd8ffTncbtKljXw</td>\n",
       "      <td>Honestly, Nevermind</td>\n",
       "      <td>2022-06-17</td>\n",
       "      <td>14</td>\n",
       "      <td>[Drake, 21 Savage]</td>\n",
       "      <td>3F5CgOj3wFlRv51JsHbxhe</td>\n",
       "      <td>Jimmy Cooks (feat. 21 Savage)</td>\n",
       "      <td>90</td>\n",
       "      <td>14</td>\n",
       "      <td>0.529</td>\n",
       "      <td>0.673</td>\n",
       "      <td>0.0</td>\n",
       "      <td>-4.711</td>\n",
       "      <td>1.0</td>\n",
       "      <td>0.175</td>\n",
       "      <td>0.000307</td>\n",
       "      <td>0.000002</td>\n",
       "      <td>0.0930</td>\n",
       "      <td>0.366</td>\n",
       "      <td>165.921</td>\n",
       "    </tr>\n",
       "    <tr>\n",
       "      <th>1</th>\n",
       "      <td>3TVXtAsR1Inumwj472S9r4</td>\n",
       "      <td>Drake</td>\n",
       "      <td>68477309</td>\n",
       "      <td>['canadian hip hop', 'canadian pop', 'hip hop'...</td>\n",
       "      <td>96</td>\n",
       "      <td>5MS3MvWHJ3lOZPLiMxzOU6</td>\n",
       "      <td>Her Loss</td>\n",
       "      <td>2022-11-04</td>\n",
       "      <td>16</td>\n",
       "      <td>[Drake, 21 Savage]</td>\n",
       "      <td>1bDbXMyjaUIooNwFE9wn0N</td>\n",
       "      <td>Rich Flex</td>\n",
       "      <td>89</td>\n",
       "      <td>1</td>\n",
       "      <td>0.561</td>\n",
       "      <td>0.520</td>\n",
       "      <td>11.0</td>\n",
       "      <td>-9.342</td>\n",
       "      <td>0.0</td>\n",
       "      <td>0.244</td>\n",
       "      <td>0.050300</td>\n",
       "      <td>0.000002</td>\n",
       "      <td>0.3550</td>\n",
       "      <td>0.424</td>\n",
       "      <td>153.150</td>\n",
       "    </tr>\n",
       "    <tr>\n",
       "      <th>2</th>\n",
       "      <td>3TVXtAsR1Inumwj472S9r4</td>\n",
       "      <td>Drake</td>\n",
       "      <td>68477309</td>\n",
       "      <td>['canadian hip hop', 'canadian pop', 'hip hop'...</td>\n",
       "      <td>96</td>\n",
       "      <td>6tE9Dnp2zInFij4jKssysL</td>\n",
       "      <td>I NEVER LIKED YOU</td>\n",
       "      <td>2022-04-29</td>\n",
       "      <td>16</td>\n",
       "      <td>[Future, Drake, Tems]</td>\n",
       "      <td>59nOXPmaKlBfGMDeOVGrIK</td>\n",
       "      <td>WAIT FOR U (feat. Drake &amp; Tems)</td>\n",
       "      <td>88</td>\n",
       "      <td>7</td>\n",
       "      <td>0.463</td>\n",
       "      <td>0.642</td>\n",
       "      <td>1.0</td>\n",
       "      <td>-4.474</td>\n",
       "      <td>1.0</td>\n",
       "      <td>0.340</td>\n",
       "      <td>0.314000</td>\n",
       "      <td>0.000000</td>\n",
       "      <td>0.0686</td>\n",
       "      <td>0.339</td>\n",
       "      <td>83.389</td>\n",
       "    </tr>\n",
       "    <tr>\n",
       "      <th>3</th>\n",
       "      <td>3TVXtAsR1Inumwj472S9r4</td>\n",
       "      <td>Drake</td>\n",
       "      <td>68477309</td>\n",
       "      <td>['canadian hip hop', 'canadian pop', 'hip hop'...</td>\n",
       "      <td>96</td>\n",
       "      <td>5MS3MvWHJ3lOZPLiMxzOU6</td>\n",
       "      <td>Her Loss</td>\n",
       "      <td>2022-11-04</td>\n",
       "      <td>16</td>\n",
       "      <td>[Drake, 21 Savage]</td>\n",
       "      <td>46s57QULU02Voy0Kup6UEb</td>\n",
       "      <td>Major Distribution</td>\n",
       "      <td>88</td>\n",
       "      <td>2</td>\n",
       "      <td>0.908</td>\n",
       "      <td>0.546</td>\n",
       "      <td>8.0</td>\n",
       "      <td>-10.491</td>\n",
       "      <td>0.0</td>\n",
       "      <td>0.323</td>\n",
       "      <td>0.012700</td>\n",
       "      <td>0.000000</td>\n",
       "      <td>0.0707</td>\n",
       "      <td>0.225</td>\n",
       "      <td>131.016</td>\n",
       "    </tr>\n",
       "    <tr>\n",
       "      <th>4</th>\n",
       "      <td>3TVXtAsR1Inumwj472S9r4</td>\n",
       "      <td>Drake</td>\n",
       "      <td>68477309</td>\n",
       "      <td>['canadian hip hop', 'canadian pop', 'hip hop'...</td>\n",
       "      <td>96</td>\n",
       "      <td>5MS3MvWHJ3lOZPLiMxzOU6</td>\n",
       "      <td>Her Loss</td>\n",
       "      <td>2022-11-04</td>\n",
       "      <td>16</td>\n",
       "      <td>[Drake, 21 Savage, Travis Scott]</td>\n",
       "      <td>2KLwPaRDOB87XOYAT2fgxh</td>\n",
       "      <td>Pussy &amp; Millions (feat. Travis Scott)</td>\n",
       "      <td>87</td>\n",
       "      <td>10</td>\n",
       "      <td>0.749</td>\n",
       "      <td>0.630</td>\n",
       "      <td>4.0</td>\n",
       "      <td>-6.652</td>\n",
       "      <td>0.0</td>\n",
       "      <td>0.116</td>\n",
       "      <td>0.062300</td>\n",
       "      <td>0.000000</td>\n",
       "      <td>0.3530</td>\n",
       "      <td>0.445</td>\n",
       "      <td>122.030</td>\n",
       "    </tr>\n",
       "  </tbody>\n",
       "</table>\n",
       "</div>"
      ],
      "text/plain": [
       "                artist_id artist_name  number_of_followers  \\\n",
       "0  3TVXtAsR1Inumwj472S9r4       Drake             68477309   \n",
       "1  3TVXtAsR1Inumwj472S9r4       Drake             68477309   \n",
       "2  3TVXtAsR1Inumwj472S9r4       Drake             68477309   \n",
       "3  3TVXtAsR1Inumwj472S9r4       Drake             68477309   \n",
       "4  3TVXtAsR1Inumwj472S9r4       Drake             68477309   \n",
       "\n",
       "                                       artist_genres  artist_popularity  \\\n",
       "0  ['canadian hip hop', 'canadian pop', 'hip hop'...                 96   \n",
       "1  ['canadian hip hop', 'canadian pop', 'hip hop'...                 96   \n",
       "2  ['canadian hip hop', 'canadian pop', 'hip hop'...                 96   \n",
       "3  ['canadian hip hop', 'canadian pop', 'hip hop'...                 96   \n",
       "4  ['canadian hip hop', 'canadian pop', 'hip hop'...                 96   \n",
       "\n",
       "                 album_id           album_name album_release_data  \\\n",
       "0  3cf4iSSKd8ffTncbtKljXw  Honestly, Nevermind         2022-06-17   \n",
       "1  5MS3MvWHJ3lOZPLiMxzOU6             Her Loss         2022-11-04   \n",
       "2  6tE9Dnp2zInFij4jKssysL    I NEVER LIKED YOU         2022-04-29   \n",
       "3  5MS3MvWHJ3lOZPLiMxzOU6             Her Loss         2022-11-04   \n",
       "4  5MS3MvWHJ3lOZPLiMxzOU6             Her Loss         2022-11-04   \n",
       "\n",
       "   number_of_tracks_on_album                     track_artists  \\\n",
       "0                         14                [Drake, 21 Savage]   \n",
       "1                         16                [Drake, 21 Savage]   \n",
       "2                         16             [Future, Drake, Tems]   \n",
       "3                         16                [Drake, 21 Savage]   \n",
       "4                         16  [Drake, 21 Savage, Travis Scott]   \n",
       "\n",
       "                 track_id                             track_name  \\\n",
       "0  3F5CgOj3wFlRv51JsHbxhe          Jimmy Cooks (feat. 21 Savage)   \n",
       "1  1bDbXMyjaUIooNwFE9wn0N                              Rich Flex   \n",
       "2  59nOXPmaKlBfGMDeOVGrIK        WAIT FOR U (feat. Drake & Tems)   \n",
       "3  46s57QULU02Voy0Kup6UEb                     Major Distribution   \n",
       "4  2KLwPaRDOB87XOYAT2fgxh  Pussy & Millions (feat. Travis Scott)   \n",
       "\n",
       "   track_popularity  track_number_on_album  danceability  energy   key  \\\n",
       "0                90                     14         0.529   0.673   0.0   \n",
       "1                89                      1         0.561   0.520  11.0   \n",
       "2                88                      7         0.463   0.642   1.0   \n",
       "3                88                      2         0.908   0.546   8.0   \n",
       "4                87                     10         0.749   0.630   4.0   \n",
       "\n",
       "   loudness  mode  speechiness  acousticness  instrumentalness  liveness  \\\n",
       "0    -4.711   1.0        0.175      0.000307          0.000002    0.0930   \n",
       "1    -9.342   0.0        0.244      0.050300          0.000002    0.3550   \n",
       "2    -4.474   1.0        0.340      0.314000          0.000000    0.0686   \n",
       "3   -10.491   0.0        0.323      0.012700          0.000000    0.0707   \n",
       "4    -6.652   0.0        0.116      0.062300          0.000000    0.3530   \n",
       "\n",
       "   valence    tempo  \n",
       "0    0.366  165.921  \n",
       "1    0.424  153.150  \n",
       "2    0.339   83.389  \n",
       "3    0.225  131.016  \n",
       "4    0.445  122.030  "
      ]
     },
     "execution_count": 18,
     "metadata": {},
     "output_type": "execute_result"
    }
   ],
   "source": [
    "pd.set_option(\"display.max_columns\", None)\n",
    "track_df = pd.DataFrame(all_track_data)\n",
    "track_df.head()"
   ]
  },
  {
   "cell_type": "code",
   "execution_count": 20,
   "metadata": {},
   "outputs": [],
   "source": [
    "track_df.to_csv(\"track_data.csv\", sep=\";\", index=False)"
   ]
  },
  {
   "cell_type": "markdown",
   "metadata": {},
   "source": [
    "# GETTING LYRICS"
   ]
  },
  {
   "cell_type": "markdown",
   "metadata": {},
   "source": [
    "Track lyrics were downloaded for text analysis using Genius API. Unfortunately, it was impossible to get lyrics for all songs, so at the end there were 18451 files with lyrics out of 21985 tracks. What's more, not all files were correct. Some of them, instead of actual lyrics, contained essays, poems, chapters from books etc. Many of them were removed manually which resulted in 17649 files."
   ]
  },
  {
   "cell_type": "code",
   "execution_count": null,
   "metadata": {},
   "outputs": [],
   "source": [
    "tracks = pd.read_csv(\"track_data.csv\", sep=\";\")\n",
    "index_list = tracks.track_name.keys().to_list()"
   ]
  },
  {
   "cell_type": "code",
   "execution_count": null,
   "metadata": {},
   "outputs": [],
   "source": [
    "genius = Genius(access_token = \"oiDi4isGxovUcT1wDOGjqxBkDZs-eSSRSi6r3KEL9Gs-6VkArNdnoiXwrHAupoJl\", verbose = False,\n",
    "               remove_section_headers = True, skip_non_songs = True)"
   ]
  },
  {
   "cell_type": "code",
   "execution_count": null,
   "metadata": {},
   "outputs": [],
   "source": [
    "notFound = []\n",
    "trackList = tracks.track_name.tolist()\n",
    "for i in tqdm(index_list):\n",
    "    try:\n",
    "        song = genius.search_song(tracks.iloc[i].track_name)\n",
    "        Lyrics = song.lyrics\n",
    "            \n",
    "        #save lyrics\n",
    "        text_file = open(\"Lyrics/\" + str(i) + \".txt\", \"w\", encoding = 'utf-8')\n",
    "        text_file.write(Lyrics)\n",
    "        text_file.close()\n",
    "    except:\n",
    "        print(\"exception at:\", i)\n",
    "        notFound.append(i)"
   ]
  },
  {
   "cell_type": "markdown",
   "metadata": {},
   "source": [
    "# LYRICS TRANSLATION"
   ]
  },
  {
   "cell_type": "markdown",
   "metadata": {},
   "source": [
    "Some of the songs weren't in English. Why we decided to automatically translate those lyrics to ensure proper text analysis. Of course, one may argue that automatic translations may not be accurate enough, but since today's translators can deal not only with short, easy sentences, but also with longer, complicated documents or slang, the results should be good enough to use in text analysis. And indeed, after manually checking translated texts we decided to use them in further analysis.\n",
    "\n",
    "The process of automatic detection was as follows: first, language of text was detected using language detector from spaCy module. If lyrics weren't in English, they were translated using google translator implemented in module translators."
   ]
  },
  {
   "cell_type": "markdown",
   "metadata": {},
   "source": [
    "We need to download spacy models in order to make the code below work:\n",
    "* python -m spacy download en_core_web_sm"
   ]
  },
  {
   "cell_type": "code",
   "execution_count": null,
   "metadata": {},
   "outputs": [],
   "source": [
    "def get_lang_detector(nlp, name):\n",
    "    return LanguageDetector()"
   ]
  },
  {
   "cell_type": "code",
   "execution_count": null,
   "metadata": {},
   "outputs": [],
   "source": [
    "nlp = spacy.load(\"en_core_web_sm\")  # initiating language detector\n",
    "spacy.Language.factory(\"language_detector\", func=get_lang_detector)\n",
    "nlp.add_pipe('language_detector', last=True)"
   ]
  },
  {
   "cell_type": "code",
   "execution_count": null,
   "metadata": {},
   "outputs": [],
   "source": [
    "lyrics_directory = \"Lyrics\"\n",
    "translated_lyrics_directory = \"Lyrics_english\" # directory to store English version of lyrics\n",
    "files = os.listdir(lyrics_directory)\n",
    "os.makedirs(translated_lyrics_directory, exist_ok=True) \n",
    "files_translated = os.listdir(translated_lyrics_directory)\n",
    "\n",
    "for file in tqdm(files, total=len(files)):\n",
    "    if \".txt\" in file and file not in files_translated:\n",
    "        with open(lyrics_directory + \"/\" + file, \"r\", encoding=\"utf-8\") as f:\n",
    "            lyrics_text = f.read()\n",
    "        doc = nlp(lyrics_text) \n",
    "        detect_language = doc._.language  # detecting lyrics language\n",
    "        if detect_language[\"language\"] != \"en\": # translating if lyrics not in English\n",
    "            if len(lyrics_text) >= 4000: # google translator can't translate texts with more than 4000 characters\n",
    "                split_lyrics = lyrics_text.split(\"\\n\") # splitting text in lines if it's too long and translating separate lines\n",
    "                split_lyrics_translated = []\n",
    "                for line in tqdm(split_lyrics, total=len(split_lyrics)):\n",
    "                    split_lyrics_translated.append(ts.google(line, from_language=detect_language[\"language\"], to_language='en'))\n",
    "                lyrics_english = \"\\n\".join(split_lyrics_translated)\n",
    "            else:\n",
    "                lyrics_english = ts.google(lyrics_text, from_language=detect_language[\"language\"], to_language='en')\n",
    "        else:\n",
    "            lyrics_english = lyrics_text\n",
    "        with open(translated_lyrics_directory + \"/\" + file, \"w\", encoding = \"utf-8\") as f:\n",
    "            f.write(lyrics_english)"
   ]
  }
 ],
 "metadata": {
  "kernelspec": {
   "display_name": "Python 3",
   "language": "python",
   "name": "python3"
  },
  "language_info": {
   "codemirror_mode": {
    "name": "ipython",
    "version": 3
   },
   "file_extension": ".py",
   "mimetype": "text/x-python",
   "name": "python",
   "nbconvert_exporter": "python",
   "pygments_lexer": "ipython3",
   "version": "3.8.5"
  }
 },
 "nbformat": 4,
 "nbformat_minor": 5
}
